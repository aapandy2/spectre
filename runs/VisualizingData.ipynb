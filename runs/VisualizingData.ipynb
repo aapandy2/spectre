{
 "cells": [
  {
   "cell_type": "code",
   "execution_count": 31,
   "id": "5d8d25ac",
   "metadata": {},
   "outputs": [],
   "source": [
    "#Distributed under the MIT License.\n",
    "#See LICENSE.txt for details.\n",
    "\n",
    "%matplotlib inline\n",
    "import numpy as np\n",
    "import pylab as pl\n",
    "import h5py\n",
    "\n",
    "# Set plot parameters to make beautiful plots\n",
    "pl.rcParams['figure.figsize']  = 7, 7\n",
    "pl.rcParams['lines.linewidth'] = 1.5\n",
    "pl.rcParams['font.family']     = 'serif'\n",
    "pl.rcParams['font.weight']     = 'bold'\n",
    "pl.rcParams['font.size']       = 20\n",
    "pl.rcParams['font.sans-serif'] = 'serif'\n",
    "pl.rcParams['text.usetex']     = True\n",
    "pl.rcParams['axes.linewidth']  = 1.5\n",
    "pl.rcParams['axes.titlesize']  = 'medium'\n",
    "pl.rcParams['axes.labelsize']  = 'large'\n",
    "\n",
    "pl.rcParams['xtick.major.size'] = 8\n",
    "pl.rcParams['xtick.minor.size'] = 4\n",
    "pl.rcParams['xtick.major.pad']  = 8\n",
    "pl.rcParams['xtick.minor.pad']  = 8\n",
    "pl.rcParams['xtick.color']      = 'k'\n",
    "pl.rcParams['xtick.labelsize']  = 'large'\n",
    "pl.rcParams['xtick.direction']  = 'in'\n",
    "\n",
    "pl.rcParams['ytick.major.size'] = 8\n",
    "pl.rcParams['ytick.minor.size'] = 4\n",
    "pl.rcParams['ytick.major.pad']  = 8\n",
    "pl.rcParams['ytick.minor.pad']  = 8\n",
    "pl.rcParams['ytick.color']      = 'k'\n",
    "pl.rcParams['ytick.labelsize']  = 'large'\n",
    "pl.rcParams['ytick.direction']  = 'in'"
   ]
  },
  {
   "cell_type": "code",
   "execution_count": 60,
   "id": "632ee08b",
   "metadata": {},
   "outputs": [],
   "source": [
    "#pass in TimestepNumber and return ObservationId\n",
    "def TimestepToObsID(VolumeData, TimestepNumber):\n",
    "    #make a dictionary where first element is sorted time, \n",
    "    #second is ObservationID\n",
    "    TimeDict = {}\n",
    "\n",
    "    for obs in sorted(VolumeData):\n",
    "        TimeDict[VolumeData[obs].attrs['observation_value']] = obs\n",
    "    \n",
    "    SortedTimeDict = dict(sorted(TimeDict.items()))\n",
    "\n",
    "    ObsID = SortedTimeDict[list(SortedTimeDict)[TimestepNumber]]\n",
    "    \n",
    "    print('ObsID =', ObsID, ', ', 't =', VolumeData[ObsID].attrs['observation_value'])\n",
    "    \n",
    "    return ObsID\n",
    "\n",
    "#pass in TimestepNumber and plot arr(x)\n",
    "def PlotTimestep(VolumeData, arrID, TimestepNumber, \n",
    "                 StyleString, ShowPlot=True, SqrtArr=False, \n",
    "                 XLabel='$x$', YLabel='$y$', LineLabel=''):\n",
    "    ObsID = TimestepToObsID(VolumeData, TimestepNumber)\n",
    "    x     = VolumeData[ObsID]['InertialCoordinates_x'][:]\n",
    "    arr   = VolumeData[ObsID][arrID][:]\n",
    "    \n",
    "    if(SqrtArr):\n",
    "        arr = np.sqrt(arr)\n",
    "    \n",
    "    pl.plot(x, arr, StyleString, label=LineLabel)\n",
    "    pl.xlabel(XLabel)\n",
    "    pl.ylabel(YLabel)\n",
    "    \n",
    "    if(ShowPlot):\n",
    "        pl.legend()\n",
    "        pl.show()\n",
    "    \n",
    "    return 0"
   ]
  },
  {
   "cell_type": "code",
   "execution_count": 61,
   "id": "a0083c02",
   "metadata": {},
   "outputs": [
    {
     "name": "stdout",
     "output_type": "stream",
     "text": [
      "ObsID = ObservationId8657157754779611018 ,  t = 1.9724724098078386\n",
      "ObsID = ObservationId2365581116265707638 ,  t = 1.9721465830192484\n"
     ]
    },
    {
     "data": {
      "image/png": "[encoded data removed]",
      "text/plain": [
       "<Figure size 504x504 with 1 Axes>"
      ]
     },
     "metadata": {
      "needs_background": "light"
     },
     "output_type": "display_data"
    },
    {
     "data": {
      "text/plain": [
       "0"
      ]
     },
     "execution_count": 61,
     "metadata": {},
     "output_type": "execute_result"
    }
   ],
   "source": [
    "#get data dictionary\n",
    "fB = h5py.File('BurgersStepVolume0.h5')['VolumeData.vol']\n",
    "fV = h5py.File('BurgersVariantStepVolume0.h5')['VolumeData.vol']\n",
    "\n",
    "PlotTimestep(fB, 'U', 110, 'b.', ShowPlot=False, SqrtArr=False, LineLabel='Burgers')\n",
    "PlotTimestep(fV, 'V', 110, 'r.', ShowPlot=True, SqrtArr=True, LineLabel='Variant')"
   ]
  },
  {
   "cell_type": "code",
   "execution_count": null,
   "id": "20a7382f",
   "metadata": {},
   "outputs": [],
   "source": []
  }
 ],
 "metadata": {
  "kernelspec": {
   "display_name": "Python 3 (ipykernel)",
   "language": "python",
   "name": "python3"
  },
  "language_info": {
   "codemirror_mode": {
    "name": "ipython",
    "version": 3
   },
   "file_extension": ".py",
   "mimetype": "text/x-python",
   "name": "python",
   "nbconvert_exporter": "python",
   "pygments_lexer": "ipython3",
   "version": "3.10.12"
  }
 },
 "nbformat": 4,
 "nbformat_minor": 5
}
