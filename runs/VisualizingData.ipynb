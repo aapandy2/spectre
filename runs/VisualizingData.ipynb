{
 "cells": [
  {
   "cell_type": "code",
   "execution_count": 1,
   "id": "5d8d25ac",
   "metadata": {},
   "outputs": [],
   "source": [
    "#Distributed under the MIT License.\n",
    "#See LICENSE.txt for details.\n",
    "\n",
    "%matplotlib inline\n",
    "import numpy as np\n",
    "import pylab as pl\n",
    "import h5py"
   ]
  },
  {
   "cell_type": "code",
   "execution_count": 95,
   "id": "4d0c410c",
   "metadata": {},
   "outputs": [],
   "source": [
    "#get data dictionary\n",
    "f = h5py.File('BurgersVariantStepVolume0.h5')['VolumeData.vol']"
   ]
  },
  {
   "cell_type": "code",
   "execution_count": 142,
   "id": "7c6843d2",
   "metadata": {
    "scrolled": false
   },
   "outputs": [],
   "source": [
    "#make a dictionary where first element is sorted time, \n",
    "#second is ObservationID\n",
    "TimeDict = {}\n",
    "\n",
    "for obs in sorted(f):\n",
    "    TimeDict[f[obs].attrs['observation_value']] = obs\n",
    "    \n",
    "SortedTimeDict = dict(sorted(TimeDict.items()))"
   ]
  },
  {
   "cell_type": "code",
   "execution_count": 143,
   "id": "632ee08b",
   "metadata": {},
   "outputs": [],
   "source": [
    "#pass in TimestepNumber and return ObservationId\n",
    "def TimestepToObsID(TimestepNumber):\n",
    "    return SortedTimeDict[list(SortedTimeDict)[TimestepNumber]]"
   ]
  },
  {
   "cell_type": "code",
   "execution_count": 148,
   "id": "e6f44a9c",
   "metadata": {},
   "outputs": [],
   "source": [
    "#pass in TimestepNumber and plot V(x)\n",
    "def PlotTimestep(TimestepNumberm):\n",
    "    ObsID = TimestepToObsID(TimestepNumber)\n",
    "    x = f[ObsID]['InertialCoordinates_x'][:]\n",
    "    V = f[ObsID]['V'][:]\n",
    "    \n",
    "    pl.plot(x, V, 'k.')\n",
    "    pl.show()\n",
    "    \n",
    "    return 0"
   ]
  },
  {
   "cell_type": "code",
   "execution_count": 147,
   "id": "a0083c02",
   "metadata": {},
   "outputs": [
    {
     "data": {
      "image/png": "[encoded data removed]",
      "text/plain": [
       "<Figure size 432x288 with 1 Axes>"
      ]
     },
     "metadata": {
      "needs_background": "light"
     },
     "output_type": "display_data"
    },
    {
     "data": {
      "text/plain": [
       "0"
      ]
     },
     "execution_count": 147,
     "metadata": {},
     "output_type": "execute_result"
    }
   ],
   "source": [
    "PlotTimestep(25)"
   ]
  },
  {
   "cell_type": "code",
   "execution_count": null,
   "id": "20a7382f",
   "metadata": {},
   "outputs": [],
   "source": []
  }
 ],
 "metadata": {
  "kernelspec": {
   "display_name": "Python 3 (ipykernel)",
   "language": "python",
   "name": "python3"
  },
  "language_info": {
   "codemirror_mode": {
    "name": "ipython",
    "version": 3
   },
   "file_extension": ".py",
   "mimetype": "text/x-python",
   "name": "python",
   "nbconvert_exporter": "python",
   "pygments_lexer": "ipython3",
   "version": "3.10.12"
  }
 },
 "nbformat": 4,
 "nbformat_minor": 5
}
